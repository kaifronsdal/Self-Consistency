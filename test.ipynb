{
 "cells": [
  {
   "cell_type": "code",
   "execution_count": 1,
   "id": "8b8b0c2f73e1646c",
   "metadata": {
    "ExecuteTime": {
     "end_time": "2024-02-27T01:29:35.162493Z",
     "start_time": "2024-02-27T01:29:34.801379Z"
    },
    "collapsed": false
   },
   "outputs": [
    {
     "name": "stdout",
     "output_type": "stream",
     "text": [
      "/lfs/hyperturing1/0/kaif/miniforge/envs/sc/bin/python\r\n"
     ]
    }
   ],
   "source": [
    "!which python"
   ]
  },
  {
   "cell_type": "code",
   "execution_count": 1,
   "id": "dba13fe1-54fd-499f-9e9c-fdc0e05f25fc",
   "metadata": {
    "ExecuteTime": {
     "end_time": "2024-02-29T06:11:38.692461Z",
     "start_time": "2024-02-29T06:11:36.720779Z"
    }
   },
   "outputs": [],
   "source": [
    "import os\n",
    "\n",
    "os.environ[\"CUDA_DEVICE_ORDER\"] = \"PCI_BUS_ID\"\n",
    "os.environ[\"CUDA_VISIBLE_DEVICES\"] = \"4,6,7,8\"\n",
    "\n",
    "from vllm import LLM, SamplingParams\n",
    "from dataset import load_datasets, BOXED_ANSWERS_DATASETS, get_boxed_answer\n",
    "from latex_formater import latex_deformat\n",
    "from prompt import generate_nshot_prompts"
   ]
  },
  {
   "cell_type": "code",
   "execution_count": 5,
   "id": "bd8c78462800a7ff",
   "metadata": {
    "ExecuteTime": {
     "end_time": "2024-02-27T21:52:31.938845Z",
     "start_time": "2024-02-27T21:52:31.612023Z"
    },
    "collapsed": false
   },
   "outputs": [],
   "source": [
    "??SamplingParams"
   ]
  },
  {
   "cell_type": "code",
   "execution_count": null,
   "id": "d8ddcfe5-fa56-4779-9025-ca7e1a390ba9",
   "metadata": {
    "ExecuteTime": {
     "start_time": "2024-02-29T06:10:58.848553Z"
    }
   },
   "outputs": [
    {
     "data": {
      "application/vnd.jupyter.widget-view+json": {
       "model_id": "d3e870742d664aeb967260a20aa7469c",
       "version_major": 2,
       "version_minor": 0
      },
      "text/plain": [
       "config.json:   0%|          | 0.00/647 [00:00<?, ?B/s]"
      ]
     },
     "metadata": {},
     "output_type": "display_data"
    },
    {
     "name": "stdout",
     "output_type": "stream",
     "text": [
      "WARNING 02-28 22:10:59 config.py:577] Casting torch.bfloat16 to torch.float16.\n",
      "INFO 02-28 22:10:59 config.py:413] Custom all-reduce kernels are temporarily disabled due to stability issues. We will re-enable them once the issues are resolved.\n"
     ]
    },
    {
     "name": "stderr",
     "output_type": "stream",
     "text": [
      "2024-02-28 22:10:59,372\tINFO worker.py:1558 -- Calling ray.init() again after it has already been called.\n"
     ]
    }
   ],
   "source": [
    "sampling_params = SamplingParams(temperature=0.8, top_p=0.95, max_tokens=1028)\n",
    "# model_name = \"deepseek-ai/deepseek-math-7b-instruct\"\n",
    "model_name = \"llm-agents/tora-13b-v1.0\"\n",
    "llm = LLM(model=model_name, trust_remote_code=True, tensor_parallel_size=4, dtype=\"float16\")"
   ]
  },
  {
   "cell_type": "code",
   "execution_count": 4,
   "id": "c9ce9336-d3e6-4ad7-940f-46b11d4e8e0c",
   "metadata": {
    "ExecuteTime": {
     "end_time": "2024-02-28T07:17:36.749111Z",
     "start_time": "2024-02-28T07:17:29.941013Z"
    }
   },
   "outputs": [],
   "source": [
    "%%capture\n",
    "datasets = load_datasets(BOXED_ANSWERS_DATASETS);"
   ]
  },
  {
   "cell_type": "markdown",
   "id": "0610b78b-7416-4d96-8a9b-0fcea7ddda10",
   "metadata": {},
   "source": [
    "A board game spinner is divided into three parts labeled $A$, $B$  and $C$.\n",
    "The probability of the spinner landing on $A$ is $\\\\frac{1}{3}$ and the\n",
    "probability of the spinner landing on $B$ is $\\\\frac{5}{12}$.  What is\n",
    "the probability of the spinner landing on $C$? Express your answer as a\n",
    "common fraction.\n",
    "\n",
    "Solution: The spinner is guaranteed to land on exactly one of the three\n",
    "regions, so we know that the sum of the probabilities of it landing in\n",
    "each region will be 1. If we let the probability of it landing in region\n",
    "$C$ be $x$, we then have the equation $1 = \\\\frac{5}{12}+\\\\frac{1}{3}+x$,\n",
    "from which we have $x=\\\\boxed{\\\\frac{1}{4}}$.\n",
    "\n",
    "Above is a question and correct solution. Propose a place in the solution\n",
    "where a normal student might make a reasoning mistake. Then explain the\n",
    "error beginning with \"Explanation:\".\n",
    "~~\n",
    "The student might make a mistake when summing the probabilities, and more\n",
    "specifically when making the conversion between fractions and whole numbers.\n",
    "\n",
    "Explanation: A common error might involve not correctly accounting for the\n",
    "total probability being 1. For instance, the student might disregard the\n",
    "conversion between different types of fractions. In this case, the student\n",
    "may add the fractions incorrectly, perhaps adding $\\frac{1}{3}$ and\n",
    "$\\frac{5}{12}$ as if they are like fractions, resulting in a incorrect sum\n",
    "of $\\frac{6}{15}$ instead of the correct sum $\\frac{13}{12}$, and\n",
    "subsequently derive an incorrect value for $x$. \n",
    "~~\n",
    "Now construct the students complete response that makes this mistake. Do\n",
    "NOT point out the mistake in the response. Adhere to the original\n",
    "formatting. Begin with \"Solution:\".\n",
    "~~\n",
    "Solution: The spinner is guaranteed to land on exactly one of the three\n",
    "regions, so we know that the sum of the probabilities of it landing in\n",
    "each region will be 1. If we let the probability of it landing in region\n",
    "$C$ be $x$, we then have the equation $1 = \\frac{5}{12}+\\frac{1}{3}+x$. \n",
    "\n",
    "When adding the fractions $\\frac{5}{12}$ and $\\frac{1}{3}$ directly, we\n",
    "get $\\frac{6}{15}$. Subtracting this from 1 gives us $1 - \\frac{6}{15}\n",
    "= \\frac{9}{15}$, which simplifies to $x = \\boxed{\\frac{3}{5}}$."
   ]
  },
  {
   "cell_type": "code",
   "execution_count": 6,
   "id": "b80593f1308a3f14",
   "metadata": {
    "ExecuteTime": {
     "end_time": "2024-02-28T07:35:32.116968Z",
     "start_time": "2024-02-28T07:35:32.072496Z"
    },
    "collapsed": false
   },
   "outputs": [],
   "source": [
    "DATASET_MAP = {\n",
    "    'EleutherAI/hendrycks_math_algebra': 'Algebra',\n",
    "    'EleutherAI/hendrycks_math_counting_and_probability': 'Counting and Probability',\n",
    "    'EleutherAI/hendrycks_math_geometry': 'Geometry',\n",
    "    'EleutherAI/hendrycks_math_intermediate_algebra': 'Intermediate Algebra',\n",
    "    'EleutherAI/hendrycks_math_number_theory': 'Number Theory',\n",
    "    'EleutherAI/hendrycks_math_prealgebra': 'Prealgebra',\n",
    "    'EleutherAI/hendrycks_math_precalculus': 'Precalculus',\n",
    "    'gsm8k_main': 'GSM8K'\n",
    "}\n",
    "\n",
    "MODEL_MAP = {\n",
    "    'deepseek-ai/deepseek-math-7b-rl': 'Deepseek-7b-RL',\n",
    "    'deepseek-ai/deepseek-math-7b-instruct': 'Deepseek-7b-Instruct',\n",
    "    'llm-agents/tora-13b-v1.0': 'Tora-13b-v1.0',\n",
    "    'EleutherAI/llemma_7b': 'LLeMMA-7b',\n",
    "    'llm-agents/tora-7b-v1.0': 'Tora-7b-v1.0',\n",
    "    'google/gemma-7b': 'Gemma-7b',\n",
    "    'morph-labs/morph-prover-v0-7b': 'Morph-7b-v0',\n",
    "    'lmsys/vicuna-13b-v1.5': 'Vicuna-13b-v1.5',\n",
    "    'lmsys/vicuna-7b-v1.5': 'Vicuna-7b-v1.5',\n",
    "    'mistralai/Mistral-7B-Instruct-v0.2': 'Mistral-7b-Instruct-v0.2',\n",
    "    'meta-llama/Llama-2-13b-chat-hf': 'Llama-2-13b',\n",
    "    'meta-llama/Llama-2-7b-hf': 'Llama-2-7b'\n",
    "}"
   ]
  },
  {
   "cell_type": "code",
   "execution_count": 7,
   "id": "c432d83787b08f33",
   "metadata": {
    "ExecuteTime": {
     "end_time": "2024-02-28T07:35:34.850495Z",
     "start_time": "2024-02-28T07:35:33.788352Z"
    },
    "collapsed": false
   },
   "outputs": [],
   "source": [
    "datasets = {DATASET_MAP[dataset['name']]: generate_nshot_prompts(dataset['data']['train'], n=3) for dataset in datasets}"
   ]
  },
  {
   "cell_type": "code",
   "execution_count": 18,
   "id": "ca1c292dd7b0376d",
   "metadata": {
    "ExecuteTime": {
     "end_time": "2024-02-28T18:39:42.034299Z",
     "start_time": "2024-02-28T18:39:42.007021Z"
    },
    "collapsed": false
   },
   "outputs": [],
   "source": [
    "# print(prompts['Algebra'][1]['question'])\n",
    "# prompt the model for the answers for the question\n",
    "from util import save_output\n",
    "\n",
    "\n",
    "@save_output\n",
    "def generate(prompts, model, sampling_params):\n",
    "    outputs = model.generate(prompts, sampling_params)\n",
    "    return outputs"
   ]
  },
  {
   "cell_type": "code",
   "execution_count": 9,
   "id": "785d370c26b32444",
   "metadata": {
    "ExecuteTime": {
     "end_time": "2024-02-28T09:59:23.327484Z",
     "start_time": "2024-02-28T07:35:37.463421Z"
    },
    "collapsed": false
   },
   "outputs": [
    {
     "name": "stderr",
     "output_type": "stream",
     "text": [
      "Processed prompts: 100%|██████████████████████████████████████████████████████| 1741/1741 [13:22<00:00,  2.17it/s]\n",
      "Processed prompts: 100%|████████████████████████████████████████████████████████| 768/768 [07:19<00:00,  1.75it/s]\n",
      "Processed prompts: 100%|████████████████████████████████████████████████████████| 867/867 [11:53<00:00,  1.22it/s]\n",
      "Processed prompts: 100%|██████████████████████████████████████████████████████| 1292/1292 [18:42<00:00,  1.15it/s]\n",
      "Processed prompts: 100%|████████████████████████████████████████████████████████| 866/866 [08:14<00:00,  1.75it/s]\n",
      "Processed prompts: 100%|██████████████████████████████████████████████████████| 1202/1202 [07:06<00:00,  2.82it/s]\n",
      "Processed prompts: 100%|████████████████████████████████████████████████████████| 743/743 [15:16<00:00,  1.23s/it]\n",
      "Processed prompts: 100%|██████████████████████████████████████████████████| 14943/14943 [1:00:47<00:00,  4.10it/s]\n"
     ]
    }
   ],
   "source": [
    "from pathlib import Path\n",
    "\n",
    "save_dir = Path(\"~/generated_predictions\").expanduser()\n",
    "save_dir.mkdir(exist_ok=True)\n",
    "load = True\n",
    "predictions = {\n",
    "    dataset: generate(\n",
    "        [p['question'] for p in data], llm, sampling_params, load=load,\n",
    "        output_path=save_dir / f\"{dataset}_{MODEL_MAP[model_name]}_predictions.pkl\"\n",
    "    ) for dataset, data in datasets.items()\n",
    "}"
   ]
  },
  {
   "cell_type": "code",
   "execution_count": 10,
   "id": "a32b234932d21fcd",
   "metadata": {
    "ExecuteTime": {
     "end_time": "2024-02-28T18:28:23.124643Z",
     "start_time": "2024-02-28T18:28:23.116650Z"
    },
    "collapsed": false
   },
   "outputs": [],
   "source": [
    "from dataset import get_boxed_answer\n",
    "from latex_formater import latex_deformat\n",
    "\n",
    "\n",
    "def grade(answers: list[str], targets: list[str]) -> list:\n",
    "    return [a == t for a, t in zip(answers, targets)]\n",
    "\n",
    "\n",
    "def grade_predictions(outputs, data):\n",
    "    boxed_predictions = []\n",
    "    for o in outputs:\n",
    "        try:\n",
    "            boxed_predictions.append(latex_deformat(get_boxed_answer(o.outputs[0].text)))\n",
    "        except:\n",
    "            print(get_boxed_answer(o.outputs[0].text))\n",
    "\n",
    "    # boxed_predictions = [latex_deformat(get_boxed_answer(o.outputs[0].text)) for o in outputs]\n",
    "    boxed_answers = [latex_deformat(get_boxed_answer(d)) for d in data]\n",
    "    grades = grade(boxed_predictions, boxed_answers)\n",
    "\n",
    "    return grades"
   ]
  },
  {
   "cell_type": "code",
   "execution_count": 11,
   "id": "9ba29985d2299904",
   "metadata": {
    "ExecuteTime": {
     "end_time": "2024-02-28T18:28:25.186825Z",
     "start_time": "2024-02-28T18:28:25.164133Z"
    },
    "collapsed": false
   },
   "outputs": [
    {
     "name": "stdout",
     "output_type": "stream",
     "text": [
      "Answer the following 4 questions:\n",
      "\n",
      "1. Natalia sold clips to 48 of her friends in April, and then she sold half as many clips in May. How many clips did Natalia sell altogether in April and May?\n",
      "\n",
      "Natalia sold 48/2 = <<48/2=24>>24 clips in May.\n",
      "Natalia sold 48+24 = <<48+24=72>>72 clips altogether in April and May.\n",
      "#### 72\n",
      "\n",
      "\n",
      "2. Weng earns $12 an hour for babysitting. Yesterday, she just did 50 minutes of babysitting. How much did she earn?\n",
      "\n",
      "Weng earns 12/60 = $<<12/60=0.2>>0.2 per minute.\n",
      "Working 50 minutes, she earned 0.2 x 50 = $<<0.2*50=10>>10.\n",
      "#### 10\n",
      "\n",
      "\n",
      "3. Betty is saving money for a new wallet which costs $100. Betty has only half of the money she needs. Her parents decided to give her $15 for that purpose, and her grandparents twice as much as her parents. How much more money does Betty need to buy the wallet?\n",
      "\n",
      "In the beginning, Betty has only 100 / 2 = $<<100/2=50>>50.\n",
      "Betty's grandparents gave her 15 * 2 = $<<15*2=30>>30.\n",
      "This means, Betty needs 100 - 50 - 30 - 15 = $<<100-50-30-15=5>>5 more.\n",
      "#### 5\n",
      "\n",
      "\n",
      "4. Albert is wondering how much pizza he can eat in one day. He buys 2 large pizzas and 2 small pizzas. A large pizza has 16 slices and a small pizza has 8 slices. If he eats it all, how many pieces does he eat that day?\n",
      "\n",
      "\n",
      "He eats 2*16 = <<2*16=32>>32 slices from the large pizza.\n",
      "He eats 2*8 = <<2*8=16>>16 slices from the small pizza.\n",
      "In total, he eats 32+16 = <<32+16=48>>48 slices.\n",
      "So the answer is $\\boxed{48}$.\n",
      "==================================================\n",
      "He eats 32 from the largest pizzas because 2 x 16 = <<2*16=32>>32\n",
      "He eats 16 from the small pizza because 2 x 8 = <<2*8=16>>16\n",
      "He eats 48 pieces because 32 + 16 = <<32+16=48>>48\n",
      "#### 48\n"
     ]
    }
   ],
   "source": [
    "i = 3\n",
    "dataset_name = 'GSM8K'\n",
    "print(predictions[dataset_name][i].prompt)\n",
    "print(predictions[dataset_name][i].outputs[0].text)\n",
    "print('=' * 50)\n",
    "print(datasets[dataset_name][i]['answer'])"
   ]
  },
  {
   "cell_type": "code",
   "execution_count": 31,
   "id": "c2d71bff147cf592",
   "metadata": {
    "ExecuteTime": {
     "end_time": "2024-02-28T21:14:13.827569Z",
     "start_time": "2024-02-28T21:14:13.609387Z"
    },
    "collapsed": false
   },
   "outputs": [],
   "source": [
    "grades = {dataset: grade_predictions(predictions[dataset], [p['answer'] for p in data]) for dataset, data in\n",
    "          datasets.items()}"
   ]
  },
  {
   "cell_type": "code",
   "execution_count": 32,
   "id": "9a6bdadaafc3d41c",
   "metadata": {
    "ExecuteTime": {
     "end_time": "2024-02-28T21:14:15.846909Z",
     "start_time": "2024-02-28T21:14:15.839254Z"
    },
    "collapsed": false
   },
   "outputs": [
    {
     "data": {
      "text/plain": [
       "{'Algebra': 0.6748994830557151,\n",
       " 'Counting and Probability': 0.3528645833333333,\n",
       " 'Geometry': 0.2502883506343714,\n",
       " 'Intermediate Algebra': 0.22136222910216719,\n",
       " 'Number Theory': 0.394919168591224,\n",
       " 'Prealgebra': 0.6638935108153078,\n",
       " 'Precalculus': 0.29475100942126514,\n",
       " 'GSM8K': 0.575453389546945}"
      ]
     },
     "execution_count": 32,
     "metadata": {},
     "output_type": "execute_result"
    }
   ],
   "source": [
    "import numpy as np\n",
    "\n",
    "{dataset: np.mean(grade) for dataset, grade in grades.items()}"
   ]
  },
  {
   "cell_type": "code",
   "execution_count": 58,
   "id": "2ae130d7844081b0",
   "metadata": {
    "ExecuteTime": {
     "end_time": "2024-02-29T01:07:45.902615Z",
     "start_time": "2024-02-29T01:07:45.829670Z"
    },
    "collapsed": false
   },
   "outputs": [],
   "source": [
    "# ask how confident the model is in its predictions\n",
    "confidence_prompt = [\n",
    "    \"\\n\\nHow confident are you this is correct? Explain your reasoning. Give a 1-5 rating, 1 being not confident at all and 5 being very confident. End your response with 'Rating: ' followed by your rating.\",\n",
    "    \"\\n\\nAre you sure this is correct? Give your confidence as a percentage from 0 to 100.\\n\\nConfidence: \"\n",
    "]\n",
    "cp_idx = 1\n",
    "\n",
    "\n",
    "def get_main_question(question):\n",
    "    # question starts with 4.\n",
    "    # remove n-shot prompt\n",
    "    return question.split('4.')[1]\n",
    "\n",
    "\n",
    "# concat the confidence prompts to the original prompts and the model's predictions\n",
    "confidence_prompts = {\n",
    "    dataset:\n",
    "        [\n",
    "            get_main_question(p['question']) + o.outputs[0].text + confidence_prompt[cp_idx]\n",
    "            for p, o in zip(data, predictions[dataset])\n",
    "        ]\n",
    "    for dataset, data in datasets.items()\n",
    "}"
   ]
  },
  {
   "cell_type": "code",
   "execution_count": 59,
   "id": "25bec68b6e19f355",
   "metadata": {
    "ExecuteTime": {
     "end_time": "2024-02-29T01:45:35.429882Z",
     "start_time": "2024-02-29T01:07:54.154083Z"
    },
    "collapsed": false
   },
   "outputs": [
    {
     "name": "stderr",
     "output_type": "stream",
     "text": [
      "Processed prompts: 100%|██████████████████████████████████████████████████████| 1741/1741 [02:57<00:00,  9.82it/s]\n",
      "Processed prompts: 100%|████████████████████████████████████████████████████████| 768/768 [02:06<00:00,  6.05it/s]\n",
      "Processed prompts: 100%|████████████████████████████████████████████████████████| 867/867 [02:45<00:00,  5.24it/s]\n",
      "Processed prompts: 100%|██████████████████████████████████████████████████████| 1292/1292 [03:48<00:00,  5.65it/s]\n",
      "Processed prompts: 100%|████████████████████████████████████████████████████████| 866/866 [02:07<00:00,  6.78it/s]\n",
      "Processed prompts: 100%|██████████████████████████████████████████████████████| 1202/1202 [02:10<00:00,  9.19it/s]\n",
      "Processed prompts: 100%|████████████████████████████████████████████████████████| 743/743 [02:23<00:00,  5.17it/s]\n",
      "Processed prompts: 100%|████████████████████████████████████████████████████| 14943/14943 [18:53<00:00, 13.18it/s]\n"
     ]
    }
   ],
   "source": [
    "load = True\n",
    "confidence_predictions = {\n",
    "    dataset: generate(\n",
    "        prompts, llm, sampling_params, load=load,\n",
    "        output_path=save_dir / f\"{dataset}_{MODEL_MAP[model_name]}_confidence_predictions_{cp_idx}.pkl\"\n",
    "    ) for dataset, prompts in confidence_prompts.items()\n",
    "}"
   ]
  },
  {
   "cell_type": "code",
   "execution_count": 87,
   "id": "9843c6ed613c43d4",
   "metadata": {
    "ExecuteTime": {
     "end_time": "2024-02-29T06:08:17.826834Z",
     "start_time": "2024-02-29T06:08:17.819973Z"
    },
    "collapsed": false
   },
   "outputs": [
    {
     "data": {
      "text/plain": [
       "'100%'"
      ]
     },
     "execution_count": 87,
     "metadata": {},
     "output_type": "execute_result"
    }
   ],
   "source": [
    "confidence_predictions['Algebra'][101].outputs[0].text"
   ]
  },
  {
   "cell_type": "code",
   "execution_count": 56,
   "id": "abfee33e9c366bd4",
   "metadata": {
    "ExecuteTime": {
     "end_time": "2024-02-28T21:25:28.904772Z",
     "start_time": "2024-02-28T21:25:28.857279Z"
    },
    "collapsed": false
   },
   "outputs": [],
   "source": [
    "??sns.histplot"
   ]
  },
  {
   "cell_type": "code",
   "execution_count": 86,
   "id": "d5a59ac63fd88203",
   "metadata": {
    "ExecuteTime": {
     "end_time": "2024-02-29T06:08:15.645666Z",
     "start_time": "2024-02-29T06:08:13.604902Z"
    },
    "collapsed": false
   },
   "outputs": [
    {
     "name": "stdout",
     "output_type": "stream",
     "text": [
      "(array([ 70,  72,  75,  80,  82,  85,  90,  95,  96,  97,  98,  99, 100]), array([  1,   1,   2,  25,   1,   3,  93,  68,   2,   5,   6,  17, 951]))\n",
      "(array([  0,  60,  67,  70,  75,  80,  85,  90,  92,  95,  97,  98,  99,\n",
      "       100]), array([  5,   3,   1,   1,   4,  18,   3,  59,   1,  27,   1,   3,  11,\n",
      "       429]))\n",
      "(array([  0,  60,  67,  70,  72,  75,  80,  82,  85,  90,  92,  95,  96,\n",
      "        97,  98,  99, 100]), array([   5,    3,    1,    2,    1,    6,   43,    1,    6,  152,    1,\n",
      "         95,    2,    6,    9,   28, 1380]))\n"
     ]
    },
    {
     "name": "stderr",
     "output_type": "stream",
     "text": [
      "/lfs/hyperturing1/0/kaif/miniforge/envs/sc/lib/python3.10/site-packages/seaborn/_oldcore.py:1119: FutureWarning: use_inf_as_na option is deprecated and will be removed in a future version. Convert inf values to NaN before operating instead.\n",
      "  with pd.option_context('mode.use_inf_as_na', True):\n"
     ]
    },
    {
     "data": {
      "image/png": "[encoded data removed]",
      "text/plain": [
       "<Figure size 640x480 with 1 Axes>"
      ]
     },
     "metadata": {},
     "output_type": "display_data"
    },
    {
     "name": "stdout",
     "output_type": "stream",
     "text": [
      "(array([  0,  50,  66,  67,  70,  75,  80,  90,  95,  99, 100]), array([  1,   1,   1,   2,   3,   7,   9,  34,  14,   2, 197]))\n",
      "(array([  0,  50,  60,  65,  66,  70,  75,  80,  85,  90,  95,  98,  99,\n",
      "       100]), array([  4,   1,   6,   2,   1,   9,  12,  36,   2,  48,  25,   1,   6,\n",
      "       343]))\n",
      "(array([ -1,   0,  50,  60,  65,  66,  67,  70,  75,  80,  85,  90,  95,\n",
      "        98,  99, 100]), array([  1,   5,   2,   6,   2,   2,   2,  12,  19,  45,   2,  82,  39,\n",
      "         1,   8, 540]))\n"
     ]
    },
    {
     "name": "stderr",
     "output_type": "stream",
     "text": [
      "/lfs/hyperturing1/0/kaif/miniforge/envs/sc/lib/python3.10/site-packages/seaborn/_oldcore.py:1119: FutureWarning: use_inf_as_na option is deprecated and will be removed in a future version. Convert inf values to NaN before operating instead.\n",
      "  with pd.option_context('mode.use_inf_as_na', True):\n"
     ]
    },
    {
     "data": {
      "image/png": "[encoded data removed]",
      "text/plain": [
       "<Figure size 640x480 with 1 Axes>"
      ]
     },
     "metadata": {},
     "output_type": "display_data"
    },
    {
     "name": "stdout",
     "output_type": "stream",
     "text": [
      "(array([ 75,  80,  90,  95,  97, 100]), array([  2,   4,  25,  21,   1, 164]))\n",
      "(array([  0,  50,  60,  70,  75,  80,  90,  95,  98,  99, 100]), array([  4,   6,   4,   5,   7,  22,  93,  48,   1,   8, 452]))\n",
      "(array([  0,  50,  60,  70,  75,  80,  90,  95,  97,  98,  99, 100]), array([  4,   6,   4,   5,   9,  26, 118,  69,   1,   1,   8, 616]))\n"
     ]
    },
    {
     "name": "stderr",
     "output_type": "stream",
     "text": [
      "/lfs/hyperturing1/0/kaif/miniforge/envs/sc/lib/python3.10/site-packages/seaborn/_oldcore.py:1119: FutureWarning: use_inf_as_na option is deprecated and will be removed in a future version. Convert inf values to NaN before operating instead.\n",
      "  with pd.option_context('mode.use_inf_as_na', True):\n"
     ]
    },
    {
     "data": {
      "image/png": "[encoded data removed]",
      "text/plain": [
       "<Figure size 640x480 with 1 Axes>"
      ]
     },
     "metadata": {},
     "output_type": "display_data"
    },
    {
     "name": "stdout",
     "output_type": "stream",
     "text": [
      "(array([ 75,  80,  90,  95,  97,  98,  99, 100]), array([  2,   6,  25,  14,   2,   4,   9, 224]))\n",
      "(array([  0,  50,  60,  66,  70,  75,  80,  85,  90,  95,  96,  98,  99,\n",
      "       100]), array([ 11,   8,   3,   1,   2,  11,  44,   3, 112,  83,   1,   2,  19,\n",
      "       705]))\n",
      "(array([ -1,   0,  50,  60,  66,  70,  75,  80,  85,  90,  95,  96,  97,\n",
      "        98,  99, 100]), array([  1,  11,   8,   3,   1,   2,  13,  50,   3, 137,  97,   1,   2,\n",
      "         6,  28, 929]))\n"
     ]
    },
    {
     "name": "stderr",
     "output_type": "stream",
     "text": [
      "/lfs/hyperturing1/0/kaif/miniforge/envs/sc/lib/python3.10/site-packages/seaborn/_oldcore.py:1119: FutureWarning: use_inf_as_na option is deprecated and will be removed in a future version. Convert inf values to NaN before operating instead.\n",
      "  with pd.option_context('mode.use_inf_as_na', True):\n"
     ]
    },
    {
     "data": {
      "image/png": "[encoded data removed]",
      "text/plain": [
       "<Figure size 640x480 with 1 Axes>"
      ]
     },
     "metadata": {},
     "output_type": "display_data"
    },
    {
     "name": "stdout",
     "output_type": "stream",
     "text": [
      "(array([ 75,  80,  85,  90,  95,  96,  98,  99, 100]), array([  1,  10,   1,  36,  18,   1,   3,  14, 258]))\n",
      "(array([  0,  50,  70,  75,  78,  80,  85,  90,  95,  96,  97,  98,  99,\n",
      "       100]), array([  6,   2,   2,   1,   1,  25,   2,  51,  41,   1,   1,   4,  13,\n",
      "       374]))\n",
      "(array([  0,  50,  70,  75,  78,  80,  85,  90,  95,  96,  97,  98,  99,\n",
      "       100]), array([  6,   2,   2,   2,   1,  35,   3,  87,  59,   2,   1,   7,  27,\n",
      "       632]))\n"
     ]
    },
    {
     "name": "stderr",
     "output_type": "stream",
     "text": [
      "/lfs/hyperturing1/0/kaif/miniforge/envs/sc/lib/python3.10/site-packages/seaborn/_oldcore.py:1119: FutureWarning: use_inf_as_na option is deprecated and will be removed in a future version. Convert inf values to NaN before operating instead.\n",
      "  with pd.option_context('mode.use_inf_as_na', True):\n"
     ]
    },
    {
     "data": {
      "image/png": "[encoded data removed]",
      "text/plain": [
       "<Figure size 640x480 with 1 Axes>"
      ]
     },
     "metadata": {},
     "output_type": "display_data"
    },
    {
     "name": "stdout",
     "output_type": "stream",
     "text": [
      "(array([ 75,  80,  85,  90,  95,  97,  98,  99, 100]), array([  2,  14,   3,  58,  40,   2,   5,  15, 659]))\n",
      "(array([  0,  50,  60,  66,  75,  80,  85,  90,  92,  95,  97,  98,  99,\n",
      "       100]), array([  2,   2,   2,   1,   3,  15,   1,  28,   1,  25,   1,   3,   4,\n",
      "       315]))\n",
      "(array([ -1,   0,  50,  60,  66,  75,  80,  85,  90,  92,  95,  97,  98,\n",
      "        99, 100]), array([  1,   2,   2,   2,   1,   5,  29,   4,  86,   1,  65,   3,   8,\n",
      "        19, 974]))\n"
     ]
    },
    {
     "name": "stderr",
     "output_type": "stream",
     "text": [
      "/lfs/hyperturing1/0/kaif/miniforge/envs/sc/lib/python3.10/site-packages/seaborn/_oldcore.py:1119: FutureWarning: use_inf_as_na option is deprecated and will be removed in a future version. Convert inf values to NaN before operating instead.\n",
      "  with pd.option_context('mode.use_inf_as_na', True):\n"
     ]
    },
    {
     "data": {
      "image/png": "[encoded data removed]",
      "text/plain": [
       "<Figure size 640x480 with 1 Axes>"
      ]
     },
     "metadata": {},
     "output_type": "display_data"
    },
    {
     "name": "stdout",
     "output_type": "stream",
     "text": [
      "(array([  0,  60,  70,  80,  90,  95,  99, 100]), array([  1,   1,   1,   3,  25,   9,   4, 175]))\n",
      "(array([  0,  50,  60,  65,  66,  67,  70,  75,  76,  80,  90,  95,  97,\n",
      "        98,  99, 100]), array([  4,   5,   3,   2,   1,   1,   1,   4,   1,  21,  68,  31,   2,\n",
      "         1,   7, 372]))\n",
      "(array([  0,  50,  60,  65,  66,  67,  70,  75,  76,  80,  90,  95,  97,\n",
      "        98,  99, 100]), array([  5,   5,   4,   2,   1,   1,   2,   4,   1,  24,  93,  40,   2,\n",
      "         1,  11, 547]))\n"
     ]
    },
    {
     "name": "stderr",
     "output_type": "stream",
     "text": [
      "/lfs/hyperturing1/0/kaif/miniforge/envs/sc/lib/python3.10/site-packages/seaborn/_oldcore.py:1119: FutureWarning: use_inf_as_na option is deprecated and will be removed in a future version. Convert inf values to NaN before operating instead.\n",
      "  with pd.option_context('mode.use_inf_as_na', True):\n"
     ]
    },
    {
     "data": {
      "image/png": "[encoded data removed]",
      "text/plain": [
       "<Figure size 640x480 with 1 Axes>"
      ]
     },
     "metadata": {},
     "output_type": "display_data"
    },
    {
     "name": "stdout",
     "output_type": "stream",
     "text": [
      "(array([  0,   5,  50,  60,  66,  70,  75,  80,  85,  90,  95,  98,  99,\n",
      "       100]), array([  11,    1,    4,   47,    2,   30,   73,  144,    1,  291,  242,\n",
      "          1,   40, 7712]))\n",
      "(array([  0,  60,  62,  65,  66,  67,  70,  75,  80,  85,  90,  95,  97,\n",
      "        98,  99, 100]), array([   4,   17,    1,    1,    1,    2,   42,   87,  249,   20,  382,\n",
      "        301,    4,   10,   51, 5172]))\n",
      "(array([  0,   5,  50,  60,  62,  65,  66,  67,  70,  75,  80,  85,  90,\n",
      "        95,  97,  98,  99, 100]), array([   15,     1,     4,    64,     1,     1,     3,     2,    72,\n",
      "         160,   393,    21,   673,   543,     4,    11,    91, 12884]))\n"
     ]
    },
    {
     "name": "stderr",
     "output_type": "stream",
     "text": [
      "/lfs/hyperturing1/0/kaif/miniforge/envs/sc/lib/python3.10/site-packages/seaborn/_oldcore.py:1119: FutureWarning: use_inf_as_na option is deprecated and will be removed in a future version. Convert inf values to NaN before operating instead.\n",
      "  with pd.option_context('mode.use_inf_as_na', True):\n"
     ]
    },
    {
     "data": {
      "image/png": "[encoded data removed]",
      "text/plain": [
       "<Figure size 640x480 with 1 Axes>"
      ]
     },
     "metadata": {},
     "output_type": "display_data"
    }
   ],
   "source": [
    "# plot the confidence predictions against grades\n",
    "import matplotlib.pyplot as plt\n",
    "import seaborn as sns\n",
    "\n",
    "num_malformed_confidence_predictions = 0\n",
    "\n",
    "\n",
    "def get_confidence(confidence_prediction):\n",
    "    # get the confidence from the confidence prediction\n",
    "    # if not found return -1\n",
    "    try:\n",
    "        confidence_part = confidence_prediction.outputs[0].text.split('\\n')[0]\n",
    "        if '%' in confidence_part:\n",
    "            return int(confidence_part.split('%')[0])\n",
    "        else:\n",
    "            return int(confidence_part)\n",
    "    except:\n",
    "        global num_malformed_confidence_predictions\n",
    "        num_malformed_confidence_predictions += 1\n",
    "        return -1\n",
    "\n",
    "\n",
    "def get_rating(confidence_prediction):\n",
    "    # get the rating from the confidence prediction\n",
    "    # if not found return -1\n",
    "    # int(o.outputs[0].text.split('Rating: ')[1])\n",
    "    try:\n",
    "        rating_part = confidence_prediction.outputs[0].text.split('Rating: ')[1]\n",
    "        return int(rating_part[0])\n",
    "    except:\n",
    "        global num_malformed_confidence_predictions\n",
    "        num_malformed_confidence_predictions += 1\n",
    "        # print(confidence_prediction.outputs[0].text)\n",
    "        # raise ValueError\n",
    "        return -1\n",
    "\n",
    "\n",
    "# one plot for each dataset\n",
    "for dataset, data in confidence_predictions.items():\n",
    "    confidences = [get_confidence(o) for o in data]\n",
    "    # distribution of confidence ratings\n",
    "    # sns.histplot(confidences)\n",
    "    # plt.title(f\"{dataset} confidence ratings\")\n",
    "    # plt.show()\n",
    "    # plot the confidence ratings against the grades\n",
    "    correct = [c for g, c in zip(grades[dataset], confidences) if c != -1 and g]\n",
    "    incorrect = [c for g, c in zip(grades[dataset], confidences) if c != -1 and not g]\n",
    "    print(np.unique(correct, return_counts=True))\n",
    "    print(np.unique(incorrect, return_counts=True))\n",
    "    print(np.unique(confidences, return_counts=True))\n",
    "    # plot categorical distribution of rating conditioned on correctness\n",
    "    # x axis is categorical, y axis is density\n",
    "    # two histograms should be interleaved, not stacked\n",
    "    sns.histplot([correct, incorrect], stat='probability', common_norm=False, bins=5, multiple='dodge', legend=True)\n",
    "\n",
    "    plt.title(f\"{dataset} confidence ratings\")\n",
    "    plt.show()\n"
   ]
  },
  {
   "cell_type": "code",
   "execution_count": 14,
   "id": "7e84ac9fd5da8afc",
   "metadata": {
    "ExecuteTime": {
     "end_time": "2024-02-27T21:35:03.599363Z",
     "start_time": "2024-02-27T21:35:03.019332Z"
    },
    "collapsed": false
   },
   "outputs": [],
   "source": [
    "# save the predictions\n",
    "# for dataset, outputs in predictions.items():\n",
    "#     with open(save_dir / f\"{dataset.replace(' ', '-')}_{MODEL_MAP[model_name]}_predictions.pkl\", \"wb\") as f:\n",
    "#         pickle.dump(outputs, f)"
   ]
  },
  {
   "cell_type": "code",
   "execution_count": 5,
   "id": "cbf5d2ab-024e-4889-9e51-1450633a4112",
   "metadata": {},
   "outputs": [],
   "source": [
    "def generate(prompts, model, sampling_params, chat_mode=False):\n",
    "    outputs = llm.generate(prompts, sampling_params)\n",
    "    if chat_mode:\n",
    "        return [prompt + o.outputs[0].text for prompt, o in zip(prompts, outputs)]\n",
    "    else:\n",
    "        return [o.outputs[0].text for o in outputs]"
   ]
  },
  {
   "cell_type": "code",
   "execution_count": 7,
   "id": "c5e0cea1-0114-43af-8857-a821bb76d148",
   "metadata": {},
   "outputs": [
    {
     "name": "stderr",
     "output_type": "stream",
     "text": [
      "Processed prompts: 100%|████████████████████████████████████████████████████████████| 1/1 [00:24<00:00, 24.34s/it]"
     ]
    },
    {
     "name": "stdout",
     "output_type": "stream",
     "text": [
      "A board game spinner is divided into three parts labeled $A$, $B$  and $C$.\n",
      "The probability of the spinner landing on $A$ is $\\frac{1}{3}$ and the\n",
      "probability of the spinner landing on $B$ is $\\frac{5}{12}$.  What is\n",
      "the probability of the spinner landing on $C$? Express your answer as a\n",
      "common fraction. Write your final answer as \"\\boxed{...}\".\n",
      "\n",
      "Solution:\n",
      "We want to find the probability of the spinner landing on $C$, which means that it must land on $A$ or $B$ and not on $C$. We can find this by using the formula for conditional probability:\n",
      "\n",
      "P(C) = P(C|A) \\* P(A) + P(C|B) \\* P(B)\n",
      "\n",
      "We know that P(A) = $\\frac{1}{3}$ and P(B) = $\\frac{5}{12}$, so we need to find P(C|A) and P(C|B).\n",
      "\n",
      "P(C|A) means the probability of the spinner landing on $C$ given that it landed on $A$. To find this, we need to know the probability of the spinner landing on $B$ or $C$ given that it landed on $A$. However, we don't have that information, so we will assume that the probabilities are equal. That is, P(B|A) = P(C|A) = $\\frac{1}{3}$.\n",
      "\n",
      "P(C|B) means the probability of the spinner landing on $C$ given that it landed on $B$. We don't have enough information to find this probability, so we will assume that it is equal to the probability of the spinner landing on $C$ in general, which is $\\frac{1}{3}$.\n",
      "\n",
      "Putting it all together, we get:\n",
      "\n",
      "P(C) = $\\frac{1}{3}$ \\* $\\frac{1}{3}$ + $\\frac{1}{3}$ \\* $\\frac{5}{12}$\n",
      "= $\\frac{1}{9}$ + $\\frac{5}{144}$\n",
      "= $\\frac{6}{144}$\n",
      "= $\\frac{3}{72}$\n",
      "= $\\frac{9}{24}$\n",
      "= $\\frac{3}{4}$\n",
      "\n",
      "So, the probability of the spinner landing on $C$ is $\\frac{3}{4}$.\n"
     ]
    },
    {
     "name": "stderr",
     "output_type": "stream",
     "text": [
      "\n"
     ]
    }
   ],
   "source": [
    "prompts = [\"\"\"A board game spinner is divided into three parts labeled $A$, $B$  and $C$.\n",
    "The probability of the spinner landing on $A$ is $\\\\frac{1}{3}$ and the\n",
    "probability of the spinner landing on $B$ is $\\\\frac{5}{12}$.  What is\n",
    "the probability of the spinner landing on $C$? Express your answer as a\n",
    "common fraction. Write your final answer as \"\\\\boxed{...}\".\n",
    "\n",
    "Solution:\n",
    "\"\"\"]\n",
    "# Solution: The spinner is guaranteed to land on exactly one of the three\n",
    "# regions, so we know that the sum of the probabilities of it landing in\n",
    "# each region will be 1. If we let the probability of it landing in region\n",
    "# $C$ be $x$, we then have the equation $1 = \\\\frac{5}{12}+\\\\frac{1}{3}+x$,\n",
    "# from which we have $x=\\\\boxed{\\\\frac{1}{4}}$.\n",
    "\n",
    "# Above is a question and correct solution. What is a mistake someone might make when solving the problem?\n",
    "\n",
    "# Mistake:\"\"\"]\n",
    "outputs = generate(prompts, llm, sampling_params, chat_mode=True)\n",
    "print(outputs[0])"
   ]
  },
  {
   "cell_type": "code",
   "execution_count": 14,
   "id": "4405c2be-c045-4f7d-94c8-4dee1616dbdc",
   "metadata": {},
   "outputs": [
    {
     "name": "stderr",
     "output_type": "stream",
     "text": [
      "Processed prompts: 100%|████████████████████████████████████████████████████████████| 1/1 [00:00<00:00,  1.66it/s]"
     ]
    },
    {
     "name": "stdout",
     "output_type": "stream",
     "text": [
      "A board game spinner is divided into three parts labeled $A$, $B$  and $C$.\n",
      "The probability of the spinner landing on $A$ is $\\frac{1}{3}$ and the\n",
      "probability of the spinner landing on $B$ is $\\frac{5}{12}$.  What is\n",
      "the probability of the spinner landing on $C$? Express your answer as a\n",
      "common fraction. Write your final answer as \"\\boxed{...}\".\n",
      "\n",
      "Solution:\n",
      "We want to find the probability of the spinner landing on $C$, which means that it must land on $A$ or $B$ and not on $C$. We can find this by using the formula for conditional probability:\n",
      "\n",
      "P(C) = P(C|A) \\* P(A) + P(C|B) \\* P(B)\n",
      "\n",
      "We know that P(A) = $\\frac{1}{3}$ and P(B) = $\\frac{5}{12}$, so we need to find P(C|A) and P(C|B).\n",
      "\n",
      "P(C|A) means the probability of the spinner landing on $C$ given that it landed on $A$. To find this, we need to know the probability of the spinner landing on $B$ or $C$ given that it landed on $A$. However, we don't have that information, so we will assume that the probabilities are equal. That is, P(B|A) = P(C|A) = $\\frac{1}{3}$.\n",
      "\n",
      "P(C|B) means the probability of the spinner landing on $C$ given that it landed on $B$. We don't have enough information to find this probability, so we will assume that it is equal to the probability of the spinner landing on $C$ in general, which is $\\frac{1}{3}$.\n",
      "\n",
      "Putting it all together, we get:\n",
      "\n",
      "P(C) = $\\frac{1}{3}$ \\* $\\frac{1}{3}$ + $\\frac{1}{3}$ \\* $\\frac{5}{12}$\n",
      "= $\\frac{1}{9}$ + $\\frac{5}{144}$\n",
      "= $\\frac{6}{144}$\n",
      "= $\\frac{3}{72}$\n",
      "= $\\frac{9}{24}$\n",
      "= $\\frac{3}{4}$\n",
      "\n",
      "So, the probability of the spinner landing on $C$ is $\\frac{3}{4}$.\n",
      "\n",
      "Are you sure this is correct?\n",
      "Yes, this is correct.\n"
     ]
    },
    {
     "name": "stderr",
     "output_type": "stream",
     "text": [
      "\n"
     ]
    }
   ],
   "source": [
    "prompts2 = [o + \"\"\"\n",
    "\n",
    "Are you sure this is correct?\n",
    "\"\"\" for o in outputs]\n",
    "outputs2 = generate(prompts2, llm, sampling_params, chat_mode=True)\n",
    "print(outputs2[0])"
   ]
  },
  {
   "cell_type": "code",
   "execution_count": 27,
   "id": "80cb88f9-fc73-4882-a54b-9d5d1835330e",
   "metadata": {},
   "outputs": [
    {
     "name": "stderr",
     "output_type": "stream",
     "text": [
      "Processed prompts: 100%|████████████████████████████████████████████████████████████| 1/1 [00:22<00:00, 22.87s/it]"
     ]
    },
    {
     "name": "stdout",
     "output_type": "stream",
     "text": [
      "A board game spinner is divided into three parts labeled $A$, $B$  and $C$.\n",
      "The probability of the spinner landing on $A$ is $\\frac{1}{3}$ and the\n",
      "probability of the spinner landing on $B$ is $\\frac{5}{12}$.  What is\n",
      "the probability of the spinner landing on $C$? Express your answer as a\n",
      "common fraction.\n",
      "\n",
      "Solution: The spinner is guaranteed to land on exactly one of the three\n",
      "regions, so we know that the sum of the probabilities of it landing in\n",
      "each region will be 1. If we let the probability of it landing in region\n",
      "$C$ be $x$, we then have the equation $1 = \\frac{5}{12}+\\frac{1}{3}+x$,\n",
      "from which we have $x=\\boxed{\\frac{1}{4}}$.\n",
      "\n",
      "Above is a question and correct solution. What is a mistake someone might make when solving the problem?\n",
      "\n",
      "Mistake: One possible mistake is assuming that the probabilities of the spinner landing on each of the three regions must be equal, and therefore setting $x=\\frac{1}{3}$. This is incorrect, as the given probabilities for $A$ and $B$ already show that the probabilities are not equal.\n",
      "\n",
      "Now construct a response that makes this mistake followed \n",
      "by a teacher explaining the mistake made. Begin with \"Incorrect Solution:\" \n",
      "and the teacher corrections with \"Teacher Correction:\".\n",
      "\n",
      "Incorrect Solution: \n",
      "To find the probability of the spinner landing on $C$, we can add the probabilities of it landing on $A$ and $B$, since they are the only other options.\n",
      "$$P(\\text{landing on }C) = P(\\text{landing on }A) + P(\\text{landing on }B)$$\n",
      "$$= \\frac{1}{3} + \\frac{5}{12}$$\n",
      "$$= \\frac{6}{12}$$\n",
      "$$= \\frac{1}{2}$$\n",
      "\n",
      "Teacher Correction:\n",
      "While it's true that $A$ and $B$ are the only other options, assuming that the probabilities of the spinner landing on each of the three regions must be equal is incorrect. We are given the specific probabilities for $A$ and $B$, so we should use those values in our calculation.\n",
      "\n",
      "By using the equation $1 = \\frac{5}{12}+\\frac{1}{3}+x$, we can solve for $x$ to find the probability of the spinner landing on $C$.\n",
      "\n",
      "Incorrect Solution:\n",
      "$$P(\\text{landing on }C) = P(\\text{landing on }A) + P(\\text{landing on }B)$$\n",
      "$$= \\frac{1}{3} + \\frac{5}{12}$$\n",
      "$$= \\frac{6}{12}$$\n",
      "$$= \\frac{1}{2}$$\n",
      "\n",
      "Teacher Correction:\n",
      "The correct equation is $1 = \\frac{5}{12}+\\frac{1}{3}+x$, where $x$ represents the probability of the spinner landing on $C$. By solving for $x$, we get $x = \\frac{1}{4}$, which is the correct answer. So, the probability of the spinner landing on $C$ is $\\frac{1}{4}$.\n"
     ]
    },
    {
     "name": "stderr",
     "output_type": "stream",
     "text": [
      "\n"
     ]
    }
   ],
   "source": [
    "prompts2 = [o + \"\"\"\n",
    "\n",
    "Now construct a response that makes this mistake followed \n",
    "by a teacher explaining the mistake made. Begin with \"Incorrect Solution:\" \n",
    "and the teacher corrections with \"Teacher Correction:\".\n",
    "\n",
    "Incorrect Solution: \"\"\" for o in outputs]\n",
    "outputs2 = generate(prompts2, llm, sampling_params, chat_mode=True)\n",
    "print(outputs2[0])"
   ]
  }
 ],
 "metadata": {
  "kernelspec": {
   "display_name": "Python 3 (ipykernel)",
   "language": "python",
   "name": "python3"
  },
  "language_info": {
   "codemirror_mode": {
    "name": "ipython",
    "version": 3
   },
   "file_extension": ".py",
   "mimetype": "text/x-python",
   "name": "python",
   "nbconvert_exporter": "python",
   "pygments_lexer": "ipython3",
   "version": "3.10.13"
  }
 },
 "nbformat": 4,
 "nbformat_minor": 5
}
